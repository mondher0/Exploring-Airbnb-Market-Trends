{
 "cells": [
  {
   "cell_type": "code",
   "execution_count": 67,
   "metadata": {},
   "outputs": [],
   "source": [
    "import pandas as pd\n",
    "import numpy as np\n",
    "\n",
    "airbnb_price = pd.read_csv(\"./data/airbnb_price.csv\")\n",
    "airbnb_last_review = pd.read_csv(\"./data/airbnb_last_review.tsv\", sep=\"\\t\")\n",
    "airbnb_room_type = pd.ExcelFile(\"./data/airbnb_room_type.xlsx\")\n",
    "airbnb_room_type_data = airbnb_room_type.parse(\"airbnb_room_type\")"
   ]
  },
  {
   "cell_type": "code",
   "execution_count": null,
   "metadata": {},
   "outputs": [
    {
     "name": "stdout",
     "output_type": "stream",
     "text": [
      "   listing_id        price                nbhood_full\n",
      "0        2595  225 dollars         Manhattan, Midtown\n",
      "1        3831   89 dollars     Brooklyn, Clinton Hill\n",
      "2        5099  200 dollars     Manhattan, Murray Hill\n",
      "3        5178   79 dollars  Manhattan, Hell's Kitchen\n",
      "4        5238  150 dollars       Manhattan, Chinatown \n",
      "\n",
      "   listing_id    host_name   last_review\n",
      "0        2595     Jennifer   May 21 2019\n",
      "1        3831  LisaRoxanne  July 05 2019\n",
      "2        5099        Chris  June 22 2019\n",
      "3        5178     Shunichi  June 24 2019\n",
      "4        5238          Ben  June 09 2019\n"
     ]
    }
   ],
   "source": [
    "print(airbnb_price.head(), \"\\n\")\n",
    "print(airbnb_last_review.head(10))"
   ]
  },
  {
   "cell_type": "code",
   "execution_count": null,
   "metadata": {},
   "outputs": [],
   "source": [
    "# What are the dates of the earliest and most recent reviews? Store these values as two separate variables with your preferred names\n",
    "airbnb_last_review[\"last_review\"] = pd.to_datetime(airbnb_last_review[\"last_review\"])\n",
    "earliest_review = airbnb_last_review[\"last_review\"].min()\n",
    "latest_review = airbnb_last_review[\"last_review\"].max()"
   ]
  },
  {
   "cell_type": "code",
   "execution_count": null,
   "metadata": {},
   "outputs": [],
   "source": [
    "# How many of the listings are private rooms? Save this into any variable\n",
    "airbnb_room_type_data[\"room_type\"] = airbnb_room_type_data[\"room_type\"].str.lower()\n",
    "private_rooms = airbnb_room_type_data[\n",
    "    airbnb_room_type_data[\"room_type\"] == \"private room\"\n",
    "].shape[0]"
   ]
  },
  {
   "cell_type": "code",
   "execution_count": null,
   "metadata": {},
   "outputs": [],
   "source": [
    "# What is the average listing price? Round to the nearest two decimal places and save into a variable\n",
    "airbnb_price[\"price\"] = (\n",
    "    airbnb_price[\"price\"].str.replace(\"dollars\", \"\").str.replace(\",\", \"\").astype(float)\n",
    ")\n",
    "average_price = round(airbnb_price[\"price\"].mean(), 2)"
   ]
  },
  {
   "cell_type": "code",
   "execution_count": null,
   "metadata": {},
   "outputs": [],
   "source": [
    "# Combine the new variables into one DataFrame called review_dates\n",
    "review_dates = pd.DataFrame(\n",
    "    {\n",
    "        \"first_reviewed\": [earliest_review],\n",
    "        \"last_reviewed\": [latest_review],\n",
    "        \"nb_private_rooms\": [private_rooms],\n",
    "        \"avg_price\": [average_price],\n",
    "    }\n",
    ")"
   ]
  }
 ],
 "metadata": {
  "kernelspec": {
   "display_name": ".venv",
   "language": "python",
   "name": "python3"
  },
  "language_info": {
   "codemirror_mode": {
    "name": "ipython",
    "version": 3
   },
   "file_extension": ".py",
   "mimetype": "text/x-python",
   "name": "python",
   "nbconvert_exporter": "python",
   "pygments_lexer": "ipython3",
   "version": "3.12.2"
  }
 },
 "nbformat": 4,
 "nbformat_minor": 2
}
